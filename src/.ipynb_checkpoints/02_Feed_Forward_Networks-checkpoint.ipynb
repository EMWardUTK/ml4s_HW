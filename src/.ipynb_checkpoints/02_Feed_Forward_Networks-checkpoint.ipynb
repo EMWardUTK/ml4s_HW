{
 "cells": [
  {
   "cell_type": "markdown",
   "metadata": {},
   "source": [
    "# Physics 494/594\n",
    "## Building a Feed Forward Neural Network\n"
   ]
  },
  {
   "cell_type": "code",
   "execution_count": null,
   "metadata": {},
   "outputs": [],
   "source": [
    "# %load ./include/header.py\n",
    "import numpy as np\n",
    "import matplotlib.pyplot as plt\n",
    "import sys\n",
    "sys.path.append('./include')\n",
    "import ml4s\n",
    "%matplotlib inline\n",
    "%config InlineBackend.figure_format = 'svg'\n",
    "plt.style.use('./include/notebook.mplstyle')\n",
    "np.set_printoptions(linewidth=120)\n",
    "ml4s._set_css_style('./include/bootstrap.css')"
   ]
  },
  {
   "cell_type": "markdown",
   "metadata": {},
   "source": [
    "## Last Time\n",
    "\n",
    "### [Notebook Link: 01_A_Basic_Neural_Network.ipynb](./01_A_Basic_Neural_Network.ipynb)\n",
    "\n",
    "- Built our first neural network\n",
    "- randomly assigned weights and biases\n",
    "- performed activiations one layer at a time\n",
    "\n",
    "## Today\n",
    "\n",
    "- Work together in groups to write code to propagate through layers\n",
    "- Manually 'train' to discern features"
   ]
  },
  {
   "cell_type": "markdown",
   "metadata": {},
   "source": [
    "### Recall our 3x3 picture"
   ]
  },
  {
   "cell_type": "code",
   "execution_count": 1,
   "metadata": {},
   "outputs": [
    {
     "name": "stdout",
     "output_type": "stream",
     "text": [
      " ░  ░  ░ \n",
      " ▉  ▉  ░ \n",
      " ▉  ▉  ░ \n",
      "\n"
     ]
    }
   ],
   "source": [
    "L = 3\n",
    "N0 = L*L\n",
    "x = [0,0,0,1,1,0,1,1,0]\n",
    "\n",
    "def print_rectangle(x):\n",
    "    print(''.join([ci if (i+1)%L else ci+'\\n' for i,ci in \n",
    "                 enumerate([' ▉ ' if cx else ' ░ ' for i,cx in enumerate(x)])]))\n",
    "print_rectangle(x)"
   ]
  },
  {
   "cell_type": "markdown",
   "metadata": {},
   "source": [
    "<div class=\"span alert alert-success\">\n",
    "<h2> Team Programming challenge </h2>\n",
    "Write a function that computes the activation for the output layer, given all weights and biases. Use a sigmoid neuron.\n",
    "</div>\n",
    "\n",
    "Recall, that for a single layer: \n",
    "\\begin{align}\n",
    "a_j^\\ell &= \\sigma \\left(\\sum_k w_{jk}^\\ell a_k^{\\ell-1} + b_j^\\ell \\right) \\\\\n",
    " &= \\sigma\\left(\\mathsf{w}^\\ell \\cdot \\bf{a}^{\\ell-1} + \\bf{b}^\\ell\\right)\n",
    "\\end{align}\n",
    "\n",
    "Your function should take the input layer, and all weights and biases as parameters.  Apply the activation sequentially to each layer, and return the output."
   ]
  },
  {
   "cell_type": "code",
   "execution_count": null,
   "metadata": {},
   "outputs": [],
   "source": [
    "def feed_forward(a0,w,b):\n",
    "    a = a0\n",
    "    # feed the input layer forward\n",
    "\n",
    "    return a"
   ]
  },
  {
   "cell_type": "markdown",
   "metadata": {},
   "source": [
    "<div class=\"span alert alert-success\">\n",
    "Randomly set all the weights and biases for the 1 hidden and 1 output layer of our network.  We used a hidden-layer with only 2 neurons, feel free to change this.\n",
    "</div>"
   ]
  },
  {
   "cell_type": "code",
   "execution_count": null,
   "metadata": {},
   "outputs": [],
   "source": [
    "N = [9,2,1]\n",
    "w,b = [],[]\n",
    "\n",
    "# append to the weights and biases list.  Make sure you get the dimensions correct!\n"
   ]
  },
  {
   "cell_type": "markdown",
   "metadata": {},
   "source": [
    "<div class=\"span alert alert-success\">\n",
    " Compute (and <code>print</code>) the activation of the output layer. You should keep randomly generating new weights and biases until you find a set that is close to 1 (which we want for our rectangle)\n",
    "</div>"
   ]
  },
  {
   "cell_type": "code",
   "execution_count": null,
   "metadata": {},
   "outputs": [],
   "source": []
  },
  {
   "cell_type": "markdown",
   "metadata": {},
   "source": [
    "### You can visualize your network with:"
   ]
  },
  {
   "cell_type": "code",
   "execution_count": null,
   "metadata": {},
   "outputs": [],
   "source": [
    "ml4s.draw_network(N)"
   ]
  },
  {
   "cell_type": "markdown",
   "metadata": {},
   "source": [
    "<div class=\"span alert alert-success\">\n",
    "<h4> Excercises </h4>\n",
    "<ol>\n",
    "    <li>Find the output from the neural network for the following inputs \n",
    "        <p>\n",
    "            <code>x = [1,1,1,0,0,0,0,0,0]</code> <br />\n",
    "            <code>x = [1,0,0,0,1,0,0,0,1]</code> <br />\n",
    "            <code>x = [0,0,0,0,0,0,0,0,1]</code> <br />\n",
    "        </p>\n",
    "       You can use the <code>print_rectangle(x)</code> function to visualize.\n",
    "    </li>\n",
    "    <li> Modify your <code>feed_forward</code> function to use a ReLU instead of a sigmoid.  Are there any changes?\n",
    "    </li>\n",
    "</ol>\n",
    "</div>"
   ]
  },
  {
   "cell_type": "code",
   "execution_count": null,
   "metadata": {},
   "outputs": [],
   "source": []
  },
  {
   "cell_type": "markdown",
   "metadata": {},
   "source": [
    "## Visualizing a Simple Neural Network\n",
    "\n",
    "Until now we have considered a feed forward neural network that was a non-linear function of an input variable $x$ corresponding to a 3x3 grid of pixels.  This is a function on a 9-dimensional space and cannot be easily interpreted.  \n",
    "\n",
    "To gain some intuition, lets consider a **much** simpler network without a hidden layer that maps 2 input neurons to 1 output neuron, i.e.:\n",
    "\n",
    "\\begin{equation}\n",
    "f : \\mathbb{R}^2 \\to \\mathbb{R}\n",
    "\\end{equation}"
   ]
  },
  {
   "cell_type": "code",
   "execution_count": null,
   "metadata": {},
   "outputs": [],
   "source": [
    "N = [2,1]\n",
    "w,b = [],[]\n",
    "for ℓ in range(len(N)-1):\n",
    "    w.append(np.random.uniform(low=-10,high=10,size=(N[ℓ+1],N[ℓ])))\n",
    "    b.append(np.random.uniform(low=-1,high=1, size=N[ℓ+1]))\n",
    "\n",
    "labels = [[r'$x_0$',r'$x_1$'],[r'$f(x_0,x_1)$']]\n",
    "ml4s.draw_network(N,node_labels=labels)"
   ]
  },
  {
   "cell_type": "markdown",
   "metadata": {},
   "source": [
    "### We can visualize this using a heat map\n",
    "\n",
    "This is **not** an efficient way to program this up, but it is fine for now.  First we apply the network for each input values in our grid."
   ]
  },
  {
   "cell_type": "code",
   "execution_count": null,
   "metadata": {},
   "outputs": [],
   "source": [
    "grid_size = 50 # the size of the grid of input values\n",
    "a1 = np.zeros([grid_size,grid_size])  # this will hold the output values\n",
    "X0 = np.zeros_like(a1)\n",
    "X1 = np.zeros_like(a1)\n",
    "\n",
    "# we will apply our simple NN for all grid points in the box x = [-0.5..0.5,-0.5..0.5]\n",
    "for i in range(grid_size):\n",
    "    for j in range(grid_size):\n",
    "        a0 = [i/grid_size-0.5,j/grid_size-0.5]\n",
    "        a1[i,j] = feed_forward(a0,w,b)[0]\n",
    "        X0[i,j] = a0[0]\n",
    "        X1[i,j] = a0[1]"
   ]
  },
  {
   "cell_type": "markdown",
   "metadata": {},
   "source": [
    "<div class=\"span alert alert-warning\">\n",
    "    Note: we need to extract the 0<sup>th</sup> element of <code>feed_forward</code> as it returns an array.\n",
    "</div>\n",
    "\n",
    "Plot the result."
   ]
  },
  {
   "cell_type": "code",
   "execution_count": null,
   "metadata": {},
   "outputs": [],
   "source": [
    "plt.imshow(a1,origin='lower', extent=(-0.5,0.5,-0.5,0.5),  cmap='Spectral_r', rasterized=True)\n",
    "plt.colorbar(label='Activation')\n",
    "plt.title('Output Activation as a function of input points in the plane')\n",
    "plt.xlabel(r'$x_1$')\n",
    "plt.ylabel(r'$x_0$');"
   ]
  },
  {
   "cell_type": "markdown",
   "metadata": {},
   "source": [
    "### Can also visualize in 3D!"
   ]
  },
  {
   "cell_type": "code",
   "execution_count": null,
   "metadata": {},
   "outputs": [],
   "source": [
    "from mpl_toolkits.mplot3d import Axes3D\n",
    "\n",
    "fig = plt.figure(figsize=(8,6))\n",
    "ax = fig.gca(projection='3d')\n",
    "surf = ax.plot_surface(X1, X0, a1, rstride=1, cstride=1, cmap='Spectral_r', \n",
    "                       linewidth=0, antialiased=True, rasterized=True)\n",
    "ax.set_xlabel(r'$x_1$',labelpad=8)\n",
    "ax.set_ylabel(r'$x_0$',labelpad=8)\n",
    "ax.set_zlabel(r'$f(\\mathbf{x} )$',labelpad=8);"
   ]
  },
  {
   "cell_type": "code",
   "execution_count": null,
   "metadata": {},
   "outputs": [],
   "source": []
  }
 ],
 "metadata": {
  "kernelspec": {
   "display_name": "Python 3 (ml4s)",
   "language": "python",
   "name": "ml4s"
  },
  "language_info": {
   "codemirror_mode": {
    "name": "ipython",
    "version": 3
   },
   "file_extension": ".py",
   "mimetype": "text/x-python",
   "name": "python",
   "nbconvert_exporter": "python",
   "pygments_lexer": "ipython3",
   "version": "3.7.9"
  }
 },
 "nbformat": 4,
 "nbformat_minor": 4
}
