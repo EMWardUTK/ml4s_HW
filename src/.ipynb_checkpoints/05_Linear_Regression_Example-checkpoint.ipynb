{
 "cells": [
  {
   "cell_type": "markdown",
   "metadata": {},
   "source": [
    "# Physics 494/594\n",
    "## Linear Regression Example"
   ]
  },
  {
   "cell_type": "code",
   "execution_count": null,
   "metadata": {},
   "outputs": [],
   "source": [
    "# %load ./include/header.py\n",
    "import numpy as np\n",
    "import matplotlib.pyplot as plt\n",
    "import sys\n",
    "sys.path.append('./include')\n",
    "import ml4s\n",
    "%matplotlib inline\n",
    "%config InlineBackend.figure_format = 'svg'\n",
    "plt.style.use('./include/notebook.mplstyle')\n",
    "np.set_printoptions(linewidth=120)\n",
    "ml4s._set_css_style('./include/bootstrap.css')\n",
    "colors = plt.rcParams['axes.prop_cycle'].by_key()['color']"
   ]
  },
  {
   "cell_type": "markdown",
   "metadata": {},
   "source": [
    "## Last Time\n",
    "\n",
    "### [Notebook Link: 04_Linear_Regression.ipynb](./04_Linear_Regression.ipynb)\n",
    "\n",
    "- Cost functions and formulating a machine learning task as an optimization problem\n",
    "- Understand linear regression \n",
    "\n",
    "## Today\n",
    "\n",
    "- Find the maximal likelihood estimates for multivariate regression\n"
   ]
  },
  {
   "cell_type": "markdown",
   "metadata": {},
   "source": [
    "<div class=\"span alert alert-success\">\n",
    "<h2> Team Programming challenge: Multivariate Regression </h2>\n",
    "\n",
    "The linearized Navier-Stokes equations for the density of a continuous fluid as a function of pressure and temperature is given by:\n",
    "    \n",
    "\\begin{equation}\n",
    "\\frac{\\rho}{\\rho_0} = \\beta_T p - \\alpha_P T \n",
    "\\end{equation}\n",
    "\n",
    "where $\\rho_0$ is the density of the steady-state background flow, $\\beta_T$ is the isothermal compressibility and $\\alpha_P$ is the isobaric coefficient of thermal expansion. For the data in the file `../data/ns_equation_of_state.dat` find the maximum likelihood values of $\\beta_T$ and $\\alpha_P$.\n",
    "    \n",
    "    \n",
    "<h3>Step 1:</h3>\n",
    "    Inspect the data (via <code>!head</code>) and load from disk using <code>np.loadtxt</code>.\n",
    "</div>"
   ]
  },
  {
   "cell_type": "code",
   "execution_count": null,
   "metadata": {},
   "outputs": [],
   "source": []
  },
  {
   "cell_type": "code",
   "execution_count": null,
   "metadata": {},
   "outputs": [],
   "source": [
    "file_name = # INSERT CODE HERE\n",
    "ρ̄,p,T = np.loadtxt(file_name, unpack=True)"
   ]
  },
  {
   "cell_type": "markdown",
   "metadata": {},
   "source": [
    "<div class=\"span alert alert-success\">\n",
    "    <h3> Step 2: </h3>\n",
    "Plot the data;  you will need to use <code>np.reshape</code> in order to use <code>plt.pcolormesh</code>.  The matrix size should be $50\\times50$\n",
    "    </div>"
   ]
  },
  {
   "cell_type": "code",
   "execution_count": null,
   "metadata": {},
   "outputs": [],
   "source": [
    "grid_size = # insert code here\n",
    "T_2D = T.reshape(grid_size,grid_size)\n",
    "p_2D = # insert code here \n",
    "ρ̄_2D = # insert code here"
   ]
  },
  {
   "cell_type": "code",
   "execution_count": null,
   "metadata": {},
   "outputs": [],
   "source": [
    "plt.pcolormesh(T_2D,p_2D,ρ̄_2D, cmap='Spectral_r', rasterized=True)\n",
    "plt.colorbar(label='Density Perturbation')\n",
    "plt.ylabel('Pressure / atm')\n",
    "plt.xlabel('Temperature / K');"
   ]
  },
  {
   "cell_type": "markdown",
   "metadata": {},
   "source": [
    "<div class=\"span alert alert-success\">\n",
    "    <h3>Step 2: </h3>\n",
    "Form the input and target arrays, making sure to add the extra dimension to incorporate a possible bias.\n",
    "    <br /><br />\n",
    "    \n",
    "   **Note:** Here $T$ is the temperature (an input dimension) while our target is $\\bar{\\rho}$.\n",
    "</div>"
   ]
  },
  {
   "cell_type": "code",
   "execution_count": null,
   "metadata": {},
   "outputs": [],
   "source": [
    "N = [2+1,1]\n",
    "labels = [['1','p','T'],[r'$F$']]\n",
    "ml4s.draw_network(N,node_labels=labels, weights=[['0',r'$\\beta_T$',r'$\\alpha_P$']], biases=[' '])"
   ]
  },
  {
   "cell_type": "code",
   "execution_count": null,
   "metadata": {},
   "outputs": [],
   "source": [
    "X = # insert code here"
   ]
  },
  {
   "cell_type": "code",
   "execution_count": null,
   "metadata": {},
   "outputs": [],
   "source": [
    "W_opt = # insert code here\n",
    "C_opt = # insert code here\n",
    "\n",
    "print(f'W_opt = {W_opt}')\n",
    "print(f'C_opt = {C_opt}')"
   ]
  },
  {
   "cell_type": "markdown",
   "metadata": {},
   "source": [
    "<div class=\"span alert alert-success\">\n",
    "    <h3>Step 3: </h3>\n",
    "Compare the multi-variable regression result with the data.  You should start by computing the optimal value.\n",
    "</div>"
   ]
  },
  {
   "cell_type": "code",
   "execution_count": null,
   "metadata": {},
   "outputs": [],
   "source": [
    "ρ̄_opt = # insert code here"
   ]
  },
  {
   "cell_type": "markdown",
   "metadata": {},
   "source": [
    "<div class=\"span alert alert-success\">\n",
    "You shouldn't have to touch any of the following code if you defined everything consistently.\n",
    "</div>"
   ]
  },
  {
   "cell_type": "code",
   "execution_count": null,
   "metadata": {},
   "outputs": [],
   "source": [
    "from mpl_toolkits.mplot3d import Axes3D\n",
    "\n",
    "fig = plt.figure(figsize=(10,7))\n",
    "ax = fig.gca(projection='3d')\n",
    "\n",
    "points = ax.scatter(T_2D, p_2D, ρ̄_2D, marker='o', color='grey', s=3)\n",
    "\n",
    "surf = ax.plot_surface(T_2D, p_2D, ρ̄_opt , rstride=1, cstride=1, cmap='Spectral_r', \n",
    "                       linewidth=0, antialiased=True, rasterized=True)\n",
    "\n",
    "ax.set_xlabel('Temperature  / K',labelpad=8)\n",
    "ax.set_ylabel('Pressure  / atm',labelpad=8)\n",
    "ax.set_zlabel(r'$\\rho/\\rho_0$',labelpad=12);"
   ]
  }
 ],
 "metadata": {
  "kernelspec": {
   "display_name": "Python 3",
   "language": "python",
   "name": "python3"
  },
  "language_info": {
   "codemirror_mode": {
    "name": "ipython",
    "version": 3
   },
   "file_extension": ".py",
   "mimetype": "text/x-python",
   "name": "python",
   "nbconvert_exporter": "python",
   "pygments_lexer": "ipython3",
   "version": "3.6.10"
  }
 },
 "nbformat": 4,
 "nbformat_minor": 4
}
