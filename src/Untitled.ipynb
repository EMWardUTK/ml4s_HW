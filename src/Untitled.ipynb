{
 "cells": [
  {
   "cell_type": "code",
   "execution_count": 1,
   "metadata": {},
   "outputs": [
    {
     "name": "stdout",
     "output_type": "stream",
     "text": [
      "/bin/bash: line 0: cd: ml4s: No such file or directory\r\n"
     ]
    }
   ],
   "source": [
    "!cd ml4s"
   ]
  },
  {
   "cell_type": "code",
   "execution_count": 2,
   "metadata": {},
   "outputs": [
    {
     "name": "stdout",
     "output_type": "stream",
     "text": [
      "Lecture_01_A_Basic_Neural_Network.ipynb  Untitled.ipynb  include\r\n"
     ]
    }
   ],
   "source": [
    "!ls"
   ]
  },
  {
   "cell_type": "code",
   "execution_count": 3,
   "metadata": {},
   "outputs": [
    {
     "name": "stdout",
     "output_type": "stream",
     "text": [
      "remote: Counting objects: 23, done.\u001b[K\n",
      "remote: Compressing objects: 100% (18/18), done.\u001b[K\n",
      "remote: Total 18 (delta 5), reused 0 (delta 0)\u001b[K\n",
      "Unpacking objects: 100% (18/18), done.\n",
      "From /lustre/haven/proj/UTK0154/local/repos/ml4s\n",
      "   0bf47d7..55b82e4  master     -> origin/master\n",
      "Updating 0bf47d7..55b82e4\n",
      "error: Your local changes to the following files would be overwritten by merge:\n",
      "\tsrc/Lecture_01_A_Basic_Neural_Network.ipynb\n",
      "Please, commit your changes or stash them before you can merge.\n",
      "Aborting\n"
     ]
    }
   ],
   "source": [
    "!git pull"
   ]
  },
  {
   "cell_type": "code",
   "execution_count": 4,
   "metadata": {},
   "outputs": [],
   "source": [
    "!git checkout Lecture_01_A_Basic_Neural_Network.ipynb"
   ]
  },
  {
   "cell_type": "code",
   "execution_count": 5,
   "metadata": {},
   "outputs": [
    {
     "name": "stdout",
     "output_type": "stream",
     "text": [
      "Updating 0bf47d7..55b82e4\n",
      "Fast-forward\n",
      " ...twork.ipynb => 01_A_Basic_Neural_Network.ipynb} |   50 +-\n",
      " src/02_Feed_Forward_Networks.ipynb                 |  320 +\n",
      " src/include/bootstrap.css                          | 7118 ++++++++++++++++++++\n",
      " src/include/header.py                              |    3 +-\n",
      " src/include/ml4s.py                                |   50 +-\n",
      " 5 files changed, 7513 insertions(+), 28 deletions(-)\n",
      " rename src/{Lecture_01_A_Basic_Neural_Network.ipynb => 01_A_Basic_Neural_Network.ipynb} (78%)\n",
      " create mode 100644 src/02_Feed_Forward_Networks.ipynb\n",
      " create mode 100644 src/include/bootstrap.css\n"
     ]
    }
   ],
   "source": [
    "!git pull"
   ]
  },
  {
   "cell_type": "code",
   "execution_count": null,
   "metadata": {},
   "outputs": [],
   "source": []
  }
 ],
 "metadata": {
  "kernelspec": {
   "display_name": "Python 3 (ml4s)",
   "language": "python",
   "name": "ml4s"
  },
  "language_info": {
   "codemirror_mode": {
    "name": "ipython",
    "version": 3
   },
   "file_extension": ".py",
   "mimetype": "text/x-python",
   "name": "python",
   "nbconvert_exporter": "python",
   "pygments_lexer": "ipython3",
   "version": "3.7.9"
  }
 },
 "nbformat": 4,
 "nbformat_minor": 4
}
