{
 "cells": [
  {
   "cell_type": "code",
   "execution_count": 25,
   "metadata": {},
   "outputs": [
    {
     "ename": "ModuleNotFoundError",
     "evalue": "No module named 'ml4s'",
     "output_type": "error",
     "traceback": [
      "\u001b[0;31m---------------------------------------------------------------------------\u001b[0m",
      "\u001b[0;31mModuleNotFoundError\u001b[0m                       Traceback (most recent call last)",
      "\u001b[0;32m<ipython-input-25-d1bfa7ec9f40>\u001b[0m in \u001b[0;36m<module>\u001b[0;34m\u001b[0m\n\u001b[1;32m      4\u001b[0m \u001b[0;32mimport\u001b[0m \u001b[0msys\u001b[0m\u001b[0;34m\u001b[0m\u001b[0;34m\u001b[0m\u001b[0m\n\u001b[1;32m      5\u001b[0m \u001b[0msys\u001b[0m\u001b[0;34m.\u001b[0m\u001b[0mpath\u001b[0m\u001b[0;34m.\u001b[0m\u001b[0mappend\u001b[0m\u001b[0;34m(\u001b[0m\u001b[0;34m'./include'\u001b[0m\u001b[0;34m)\u001b[0m\u001b[0;34m\u001b[0m\u001b[0;34m\u001b[0m\u001b[0m\n\u001b[0;32m----> 6\u001b[0;31m \u001b[0;32mimport\u001b[0m \u001b[0mml4s\u001b[0m\u001b[0;34m\u001b[0m\u001b[0;34m\u001b[0m\u001b[0m\n\u001b[0m\u001b[1;32m      7\u001b[0m \u001b[0mget_ipython\u001b[0m\u001b[0;34m(\u001b[0m\u001b[0;34m)\u001b[0m\u001b[0;34m.\u001b[0m\u001b[0mrun_line_magic\u001b[0m\u001b[0;34m(\u001b[0m\u001b[0;34m'matplotlib'\u001b[0m\u001b[0;34m,\u001b[0m \u001b[0;34m'inline'\u001b[0m\u001b[0;34m)\u001b[0m\u001b[0;34m\u001b[0m\u001b[0;34m\u001b[0m\u001b[0m\n\u001b[1;32m      8\u001b[0m \u001b[0mget_ipython\u001b[0m\u001b[0;34m(\u001b[0m\u001b[0;34m)\u001b[0m\u001b[0;34m.\u001b[0m\u001b[0mrun_line_magic\u001b[0m\u001b[0;34m(\u001b[0m\u001b[0;34m'config'\u001b[0m\u001b[0;34m,\u001b[0m \u001b[0;34m\"InlineBackend.figure_format = 'svg'\"\u001b[0m\u001b[0;34m)\u001b[0m\u001b[0;34m\u001b[0m\u001b[0;34m\u001b[0m\u001b[0m\n",
      "\u001b[0;31mModuleNotFoundError\u001b[0m: No module named 'ml4s'"
     ]
    }
   ],
   "source": [
    "# %load include/header.py\n",
    "import numpy as np\n",
    "import matplotlib.pyplot as plt\n",
    "import sys\n",
    "sys.path.append('./include')\n",
    "import ml4s\n",
    "%matplotlib inline\n",
    "%config InlineBackend.figure_format = 'svg'\n",
    "plt.style.use('./include/notebook.mplstyle')\n",
    "np.set_printoptions(linewidth=120)\n",
    "ml4s._set_css_style('./include/bootstrap.css')\n",
    "colors = plt.rcParams['axes.prop_cycle'].by_key()['color']\n",
    "\n",
    "from jax import jacfwd,grad\n",
    "import jax.numpy as jnp\n",
    "import json"
   ]
  },
  {
   "cell_type": "markdown",
   "metadata": {},
   "source": [
    "# 1. a.)"
   ]
  },
  {
   "cell_type": "code",
   "execution_count": 35,
   "metadata": {},
   "outputs": [
    {
     "name": "stdout",
     "output_type": "stream",
     "text": [
      "0\t0\t1.921947727823849e-98\n",
      "0\t1\t2.678636961808078e-33\n",
      "1\t0\t2.678636961808078e-33\n",
      "1\t1\t1.0\n"
     ]
    },
    {
     "data": {
      "image/png": "[encoded data removed]",
      "text/plain": [
       "<Figure size 432x288 with 2 Axes>"
      ]
     },
     "metadata": {
      "needs_background": "light"
     },
     "output_type": "display_data"
    }
   ],
   "source": [
    "def feed_forward(a0,w,b):\n",
    "    num_layers = len(w)\n",
    "    a = a0\n",
    "    for ℓ in range(num_layers):\n",
    "        z = np.dot(a,w[ℓ]) + b[ℓ]\n",
    "        a = 1.0/(1.0+np.exp(-z))\n",
    "    return a\n",
    "\n",
    "N = [2,1]\n",
    "\n",
    "w0 = 150.0\n",
    "w1 = w0\n",
    "b0 = -1.5 * w0\n",
    "\n",
    "w = [np.array([[w0], [w1]])]\n",
    "b = [np.array([b0])]\n",
    "\n",
    "for x0 in range(2):\n",
    "    for x1 in range(2):\n",
    "        x = np.array([x0, x1])\n",
    "        a1 = feed_forward(x, w, b)\n",
    "        print(x0, x1, a1[0], sep = '\\t')\n",
    "\n",
    "grid_size = 200\n",
    "\n",
    "x = np.meshgrid(np.linspace(0,1.0,grid_size),np.linspace(0,1.0,grid_size))\n",
    "xflat = [x[0].flatten(),x[1].flatten()]\n",
    "\n",
    "batch_size = grid_size**2\n",
    "a0 = np.zeros([batch_size,2])\n",
    "\n",
    "a0[:,0]=xflat[0]\n",
    "a0[:,1]=xflat[1]\n",
    "a1 = feed_forward(a0,w,b)\n",
    "a1 = a1.reshape(grid_size,grid_size)\n",
    "\n",
    "plt.imshow(a1, extent=[0,1.0,0,1.0], cmap='Spectral_r', rasterized=True, interpolation='lanczos', origin='lower')\n",
    "plt.colorbar(label='Activation')\n",
    "plt.xlabel(r'$x_1$')\n",
    "plt.ylabel(r'$x_0$');"
   ]
  },
  {
   "cell_type": "markdown",
   "metadata": {},
   "source": [
    "# 1. b.)"
   ]
  },
  {
   "cell_type": "code",
   "execution_count": 10,
   "metadata": {},
   "outputs": [
    {
     "ename": "ValueError",
     "evalue": "shapes (2,) and (1,2) not aligned: 2 (dim 0) != 1 (dim 0)",
     "output_type": "error",
     "traceback": [
      "\u001b[0;31m---------------------------------------------------------------------------\u001b[0m",
      "\u001b[0;31mValueError\u001b[0m                                Traceback (most recent call last)",
      "\u001b[0;32m<ipython-input-10-a9d5bc0317d3>\u001b[0m in \u001b[0;36m<module>\u001b[0;34m\u001b[0m\n\u001b[1;32m     14\u001b[0m     \u001b[0;32mfor\u001b[0m \u001b[0mj\u001b[0m \u001b[0;32min\u001b[0m \u001b[0mrange\u001b[0m\u001b[0;34m(\u001b[0m\u001b[0mgrid_size\u001b[0m\u001b[0;34m)\u001b[0m\u001b[0;34m:\u001b[0m\u001b[0;34m\u001b[0m\u001b[0;34m\u001b[0m\u001b[0m\n\u001b[1;32m     15\u001b[0m         \u001b[0ma0\u001b[0m \u001b[0;34m=\u001b[0m \u001b[0;34m[\u001b[0m\u001b[0mi\u001b[0m\u001b[0;34m/\u001b[0m\u001b[0;34m(\u001b[0m\u001b[0mgrid_size\u001b[0m\u001b[0;34m-\u001b[0m\u001b[0;36m1\u001b[0m\u001b[0;34m)\u001b[0m\u001b[0;34m,\u001b[0m\u001b[0mj\u001b[0m\u001b[0;34m/\u001b[0m\u001b[0;34m(\u001b[0m\u001b[0mgrid_size\u001b[0m\u001b[0;34m-\u001b[0m\u001b[0;36m1\u001b[0m\u001b[0;34m)\u001b[0m\u001b[0;34m]\u001b[0m\u001b[0;34m\u001b[0m\u001b[0;34m\u001b[0m\u001b[0m\n\u001b[0;32m---> 16\u001b[0;31m         \u001b[0ma1\u001b[0m\u001b[0;34m[\u001b[0m\u001b[0mi\u001b[0m\u001b[0;34m,\u001b[0m\u001b[0mj\u001b[0m\u001b[0;34m]\u001b[0m \u001b[0;34m=\u001b[0m \u001b[0mfeed_forward\u001b[0m\u001b[0;34m(\u001b[0m\u001b[0ma0\u001b[0m\u001b[0;34m,\u001b[0m\u001b[0mw\u001b[0m\u001b[0;34m,\u001b[0m\u001b[0mb\u001b[0m\u001b[0;34m)\u001b[0m\u001b[0;34m\u001b[0m\u001b[0;34m\u001b[0m\u001b[0m\n\u001b[0m\u001b[1;32m     17\u001b[0m         \u001b[0mX0\u001b[0m\u001b[0;34m[\u001b[0m\u001b[0mi\u001b[0m\u001b[0;34m,\u001b[0m\u001b[0mj\u001b[0m\u001b[0;34m]\u001b[0m \u001b[0;34m=\u001b[0m \u001b[0ma0\u001b[0m\u001b[0;34m[\u001b[0m\u001b[0;36m0\u001b[0m\u001b[0;34m]\u001b[0m\u001b[0;34m\u001b[0m\u001b[0;34m\u001b[0m\u001b[0m\n\u001b[1;32m     18\u001b[0m         \u001b[0mX1\u001b[0m\u001b[0;34m[\u001b[0m\u001b[0mi\u001b[0m\u001b[0;34m,\u001b[0m\u001b[0mj\u001b[0m\u001b[0;34m]\u001b[0m \u001b[0;34m=\u001b[0m \u001b[0ma0\u001b[0m\u001b[0;34m[\u001b[0m\u001b[0;36m1\u001b[0m\u001b[0;34m]\u001b[0m\u001b[0;34m\u001b[0m\u001b[0;34m\u001b[0m\u001b[0m\n",
      "\u001b[0;32m<ipython-input-8-633d215b5092>\u001b[0m in \u001b[0;36mfeed_forward\u001b[0;34m(a0, w, b)\u001b[0m\n\u001b[1;32m      3\u001b[0m     \u001b[0ma\u001b[0m \u001b[0;34m=\u001b[0m \u001b[0ma0\u001b[0m\u001b[0;34m\u001b[0m\u001b[0;34m\u001b[0m\u001b[0m\n\u001b[1;32m      4\u001b[0m     \u001b[0;32mfor\u001b[0m \u001b[0mℓ\u001b[0m \u001b[0;32min\u001b[0m \u001b[0mrange\u001b[0m\u001b[0;34m(\u001b[0m\u001b[0mnum_layers\u001b[0m\u001b[0;34m)\u001b[0m\u001b[0;34m:\u001b[0m\u001b[0;34m\u001b[0m\u001b[0;34m\u001b[0m\u001b[0m\n\u001b[0;32m----> 5\u001b[0;31m         \u001b[0mz\u001b[0m \u001b[0;34m=\u001b[0m \u001b[0mnp\u001b[0m\u001b[0;34m.\u001b[0m\u001b[0mdot\u001b[0m\u001b[0;34m(\u001b[0m\u001b[0ma\u001b[0m\u001b[0;34m,\u001b[0m\u001b[0mw\u001b[0m\u001b[0;34m[\u001b[0m\u001b[0mℓ\u001b[0m\u001b[0;34m]\u001b[0m\u001b[0;34m)\u001b[0m \u001b[0;34m+\u001b[0m \u001b[0mb\u001b[0m\u001b[0;34m[\u001b[0m\u001b[0mℓ\u001b[0m\u001b[0;34m]\u001b[0m\u001b[0;34m\u001b[0m\u001b[0;34m\u001b[0m\u001b[0m\n\u001b[0m\u001b[1;32m      6\u001b[0m         \u001b[0ma\u001b[0m \u001b[0;34m=\u001b[0m \u001b[0;36m1.0\u001b[0m\u001b[0;34m/\u001b[0m\u001b[0;34m(\u001b[0m\u001b[0;36m1.0\u001b[0m\u001b[0;34m+\u001b[0m\u001b[0mnp\u001b[0m\u001b[0;34m.\u001b[0m\u001b[0mexp\u001b[0m\u001b[0;34m(\u001b[0m\u001b[0;34m-\u001b[0m\u001b[0mz\u001b[0m\u001b[0;34m)\u001b[0m\u001b[0;34m)\u001b[0m\u001b[0;34m\u001b[0m\u001b[0;34m\u001b[0m\u001b[0m\n\u001b[1;32m      7\u001b[0m     \u001b[0;32mreturn\u001b[0m \u001b[0ma\u001b[0m\u001b[0;34m\u001b[0m\u001b[0;34m\u001b[0m\u001b[0m\n",
      "\u001b[0;32m<__array_function__ internals>\u001b[0m in \u001b[0;36mdot\u001b[0;34m(*args, **kwargs)\u001b[0m\n",
      "\u001b[0;31mValueError\u001b[0m: shapes (2,) and (1,2) not aligned: 2 (dim 0) != 1 (dim 0)"
     ]
    }
   ],
   "source": [
    "w=[[[ 7.0, -10],\n",
    "       [ 7.0, -8]],[[-7 ,  7],\n",
    "       [-3, -3]], [[10, 3]]]\n",
    "b=[[ 7, -3], [4, 1], [-3]]\n",
    "\n",
    "\n",
    "grid_size = 2 # the size of the grid of input values\n",
    "a1 = np.zeros([grid_size,grid_size])  # this will hold the output values\n",
    "X0 = np.zeros_like(a1)\n",
    "X1 = np.zeros_like(a1)\n",
    "\n",
    "\n",
    "for i in range(grid_size):\n",
    "    for j in range(grid_size):\n",
    "        a0 = [i/(grid_size-1),j/(grid_size-1)]\n",
    "        a1[i,j] = feed_forward(a0,w,b)\n",
    "        X0[i,j] = a0[0]\n",
    "        X1[i,j] = a0[1]\n",
    "plt.imshow(a1,origin='lower', extent=(0.0,1.0,0.0,1.0),  cmap='Spectral_r', rasterized=True)\n",
    "plt.colorbar(label='Activation')\n",
    "plt.title('Output Activation as a function of input points in the plane')\n",
    "plt.xlabel(r'$x_1$')\n",
    "plt.ylabel(r'$x_0$');"
   ]
  },
  {
   "cell_type": "markdown",
   "metadata": {},
   "source": [
    "# 3 a.)"
   ]
  },
  {
   "cell_type": "code",
   "execution_count": 23,
   "metadata": {},
   "outputs": [
    {
     "data": {
      "image/png": "[encoded data removed]",
      "text/plain": [
       "<Figure size 432x288 with 1 Axes>"
      ]
     },
     "metadata": {
      "needs_background": "light"
     },
     "output_type": "display_data"
    }
   ],
   "source": [
    "x,y = np.loadtxt(\"C60_nmr.dat\", unpack = True)\n",
    "\n",
    "plt.plot(x,y, 'o')\n",
    "plt.xlabel('δ')\n",
    "plt.ylabel('S');"
   ]
  },
  {
   "cell_type": "markdown",
   "metadata": {},
   "source": [
    "# 3. b.)"
   ]
  },
  {
   "cell_type": "code",
   "execution_count": 27,
   "metadata": {},
   "outputs": [
    {
     "name": "stdout",
     "output_type": "stream",
     "text": [
      "{'alpha': 18.22972297668457, 'beta': 0.41906335949897766, 'num_iter': 100, 'eta': 0.3}\n"
     ]
    }
   ],
   "source": [
    "def S(w,δ):\n",
    "    return 1/((δ-w[0])**2+w[1])\n",
    "\n",
    "def cost(w,x,y):\n",
    "    return 0.5*jnp.average((S(w,x)-y)**2)\n",
    "\n",
    "\n",
    "w = jnp.array([18,.4],dtype=float)\n",
    "v = jnp.array([0.,0.],dtype=float)\n",
    " \n",
    "\n",
    "η = 0.3\n",
    "γ = 0.1\n",
    "num_iter = 100\n",
    "\n",
    "for i in range(num_iter):\n",
    "    v = γ*v + η*grad(cost)(w,x,y)\n",
    "    w -= v\n",
    "\n",
    "data = {\"alpha\":float(w[0]),\"beta\":float(w[1]),\"num_iter\":num_iter,\"eta\":float(η)}\n",
    "\n",
    "with open(\"C60_optimal.json\",\"w\") as outfile:\n",
    "    json.dump(data,outfile,indent=1)\n",
    "    \n",
    "print(data)"
   ]
  },
  {
   "cell_type": "markdown",
   "metadata": {},
   "source": [
    "# 3. c.)"
   ]
  },
  {
   "cell_type": "code",
   "execution_count": 28,
   "metadata": {},
   "outputs": [
    {
     "data": {
      "text/plain": [
       "<matplotlib.legend.Legend at 0x2aab53f2f050>"
      ]
     },
     "execution_count": 28,
     "metadata": {},
     "output_type": "execute_result"
    },
    {
     "data": {
      "image/png": "[encoded data removed]",
      "text/plain": [
       "<Figure size 432x288 with 1 Axes>"
      ]
     },
     "metadata": {
      "needs_background": "light"
     },
     "output_type": "display_data"
    }
   ],
   "source": [
    "x_fit,y_fit = [],[]\n",
    "x_fit = np.linspace(np.min(x),np.max(x),1000)\n",
    "y_fit = S(w,x_fit)\n",
    "\n",
    "plt.plot(x,y,'o',label=\"Data\") \n",
    "plt.plot(x_fit,y_fit,'-',label=\"Fit\")\n",
    "plt.xlabel('δ')\n",
    "plt.ylabel('S(δ)')\n",
    "plt.legend()"
   ]
  },
  {
   "cell_type": "markdown",
   "metadata": {},
   "source": [
    "# 3. d.)"
   ]
  },
  {
   "cell_type": "code",
   "execution_count": 33,
   "metadata": {},
   "outputs": [
    {
     "data": {
      "image/png": "[encoded data removed]",
      "text/plain": [
       "<Figure size 432x288 with 1 Axes>"
      ]
     },
     "metadata": {
      "needs_background": "light"
     },
     "output_type": "display_data"
    }
   ],
   "source": [
    "def S_fm(w,x):\n",
    "    return 1/S(w,x)\n",
    "\n",
    "def cost_fm(w,x,y):\n",
    "    return 0.5*jnp.average((S_fm(w,x)-y)**2)\n",
    "\n",
    "y_fm = 1/y[45:55]\n",
    "x_fm = x[45:55]\n",
    "w_fm = jnp.array([18.0,4.0])\n",
    "\n",
    "η = 0.2\n",
    "γ = 0.0\n",
    "num_iter = 1000\n",
    "v = 0\n",
    "\n",
    "for i in range(num_iter):\n",
    "    w_fm -=  η*jacfwd(cost_fm)(w_fm,x_fm,y_fm)\n",
    "\n",
    "x_fit,y_fit = [],[]\n",
    "x_fit = np.linspace(np.min(x),np.max(x),1000)\n",
    "y_fit = S(w,x_fit)\n",
    "y_fit2 = S(w_fm,x_fit)\n",
    "\n",
    "plt.plot(x,y,'o',label=\"Data\") \n",
    "plt.plot(x_fit,y_fit,'-',label=\"Fit 3. b.)\")\n",
    "plt.plot(x_fit,y_fit,'--',label=\"Fit 3. d.)\")\n",
    "plt.xlabel('δ')\n",
    "plt.ylabel('S')\n",
    "plt.legend();\n",
    "data['alpha_fm'] = float(w_fm[0])\n",
    "data['beta_fm'] = float(w_fm[1])\n",
    "\n",
    "with open(\"C60_optimal.json\",\"w\") as json_file:\n",
    "    json.dump(data,json_file,indent=1)"
   ]
  },
  {
   "cell_type": "code",
   "execution_count": null,
   "metadata": {},
   "outputs": [],
   "source": []
  }
 ],
 "metadata": {
  "kernelspec": {
   "display_name": "Python 3 (ml4s)",
   "language": "python",
   "name": "ml4s"
  },
  "language_info": {
   "codemirror_mode": {
    "name": "ipython",
    "version": 3
   },
   "file_extension": ".py",
   "mimetype": "text/x-python",
   "name": "python",
   "nbconvert_exporter": "python",
   "pygments_lexer": "ipython3",
   "version": "3.7.9"
  }
 },
 "nbformat": 4,
 "nbformat_minor": 4
}
